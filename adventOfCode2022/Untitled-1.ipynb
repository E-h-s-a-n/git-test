{
 "cells": [
  {
   "cell_type": "markdown",
   "metadata": {},
   "source": [
    "advent of code calender of 2022"
   ]
  },
  {
   "cell_type": "markdown",
   "metadata": {},
   "source": [
    "## Day 1"
   ]
  },
  {
   "cell_type": "code",
   "execution_count": 5,
   "metadata": {},
   "outputs": [],
   "source": [
    "# Advent code day 1 [YT: Jonathan Paulson]\n",
    "def show_day_1():\n",
    "    X = [l.strip() for l in open('day1.txt')]\n",
    "    Q = []\n",
    "    for elf in ('\\n'.join(X)).split('\\n\\n'):\n",
    "        _sum = 0\n",
    "        for i in elf.split('\\n'):\n",
    "            _sum += int(i)\n",
    "        Q.append(_sum)\n",
    "\n",
    "    return sorted(Q, reverse=True)[:3]"
   ]
  },
  {
   "cell_type": "code",
   "execution_count": 6,
   "metadata": {},
   "outputs": [
    {
     "data": {
      "text/plain": [
       "[70369, 66781, 65852]"
      ]
     },
     "execution_count": 6,
     "metadata": {},
     "output_type": "execute_result"
    }
   ],
   "source": [
    "show_day_1()"
   ]
  },
  {
   "cell_type": "code",
   "execution_count": 29,
   "metadata": {},
   "outputs": [
    {
     "data": {
      "text/plain": [
       "[65852, 66781, 70369]"
      ]
     },
     "execution_count": 29,
     "metadata": {},
     "output_type": "execute_result"
    }
   ],
   "source": [
    "Q = [l.strip() for l in open('day1.txt')]\n",
    "QQ = (' '.join(Q)).split(\"  \")\n",
    "QQ2 = [sum([int(j) for j in i.split()]) for i in QQ]\n",
    "\n",
    "sorted(QQ2)[-3:]"
   ]
  },
  {
   "cell_type": "markdown",
   "metadata": {},
   "source": [
    "## Day 2"
   ]
  },
  {
   "cell_type": "code",
   "execution_count": 6,
   "metadata": {},
   "outputs": [
    {
     "data": {
      "text/plain": [
       "(13005, 11373)"
      ]
     },
     "execution_count": 6,
     "metadata": {},
     "output_type": "execute_result"
    }
   ],
   "source": [
    "X = [l.strip() for l in open('day2.txt')]\n",
    "\n",
    "part1_score = 0\n",
    "part2_score = 0\n",
    "for i in X:\n",
    "    op, pl = i.split()\n",
    "    \n",
    "    # determine won lost or draw point\n",
    "    part_1 = {('A', 'X'): 3, ('A', 'Y'): 6, ('A', 'Z'): 0,\n",
    "        ('B', 'X'): 0, ('B', 'Y'): 3, ('B', 'Z'): 6,\n",
    "        ('C', 'X'): 6, ('C', 'Y'): 0, ('C', 'Z'): 3,}[(op, pl)]\n",
    "\n",
    "    # determine player hand point\n",
    "    part_2 = {('A', 'X'): 3, ('A', 'Y'): 1, ('A', 'Z'): 2,\n",
    "        ('B', 'X'): 1, ('B', 'Y'): 2, ('B', 'Z'): 3,\n",
    "        ('C', 'X'): 2, ('C', 'Y'): 3, ('C', 'Z'): 1,}[(op, pl)]\n",
    "\n",
    "    part1_score += part_1 + {'X': 1, 'Y': 2, 'Z': 3}[pl]\n",
    "\n",
    "    part2_score += part_2 + {'X': 0, 'Y': 3, 'Z': 6}[pl]\n",
    "\n",
    "part1_score, part2_score # 13005, 11373\n"
   ]
  },
  {
   "cell_type": "markdown",
   "metadata": {},
   "source": [
    "## Day 3"
   ]
  },
  {
   "cell_type": "markdown",
   "metadata": {},
   "source": []
  },
  {
   "cell_type": "code",
   "execution_count": 46,
   "metadata": {},
   "outputs": [
    {
     "data": {
      "text/plain": [
       "[{'a', 'b', 'c'}, {'3', 'a', 'c', 'd', 'e'}, {'1', 'a', 'c', 'e', 'f', 'r'}]"
      ]
     },
     "execution_count": 46,
     "metadata": {},
     "output_type": "execute_result"
    }
   ],
   "source": [
    "from string import ascii_letters\n",
    "\n",
    "ss = ['abccc', 'd3ea3c', 'ecfra1']\n",
    "# [{*s} for s in ss]\n",
    "[{*s} for s in ss]\n"
   ]
  },
  {
   "cell_type": "code",
   "execution_count": 47,
   "metadata": {},
   "outputs": [
    {
     "data": {
      "text/plain": [
       "{'a', 'c'}"
      ]
     },
     "execution_count": 47,
     "metadata": {},
     "output_type": "execute_result"
    }
   ],
   "source": [
    "[*map(set, ss)]\n",
    "\n",
    "set.intersection(*map(set, ss))"
   ]
  },
  {
   "cell_type": "code",
   "execution_count": 54,
   "metadata": {},
   "outputs": [
    {
     "data": {
      "text/plain": [
       "[[1, 2, 3, 4], [5, 6, 7, 8]]"
      ]
     },
     "execution_count": 54,
     "metadata": {},
     "output_type": "execute_result"
    }
   ],
   "source": [
    "matrix = [\n",
    "    [1, 2, 3, 4],\n",
    "    [5, 6, 7, 8]\n",
    "]\n",
    "\n",
    "zip(*matrix)\n",
    "\n"
   ]
  }
 ],
 "metadata": {
  "kernelspec": {
   "display_name": "Python 3.11.0 64-bit",
   "language": "python",
   "name": "python3"
  },
  "language_info": {
   "codemirror_mode": {
    "name": "ipython",
    "version": 3
   },
   "file_extension": ".py",
   "mimetype": "text/x-python",
   "name": "python",
   "nbconvert_exporter": "python",
   "pygments_lexer": "ipython3",
   "version": "3.11.0"
  },
  "orig_nbformat": 4,
  "vscode": {
   "interpreter": {
    "hash": "5238573367df39f7286bb46f9ff5f08f63a01a80960060ce41e3c79b190280fa"
   }
  }
 },
 "nbformat": 4,
 "nbformat_minor": 2
}
