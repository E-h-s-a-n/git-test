{
 "cells": [
  {
   "cell_type": "markdown",
   "metadata": {},
   "source": [
    "advent of code calender of 2022"
   ]
  },
  {
   "cell_type": "markdown",
   "metadata": {},
   "source": [
    "## Day 1"
   ]
  },
  {
   "cell_type": "code",
   "execution_count": null,
   "metadata": {},
   "outputs": [],
   "source": [
    "# Advent code day 1 [YT: Jonathan Paulson]\n",
    "def show_day_1():\n",
    "    X = [l.strip() for l in open('day1.txt')]\n",
    "    Q = []\n",
    "    for elf in ('\\n'.join(X)).split('\\n\\n'):\n",
    "        _sum = 0\n",
    "        for i in elf.split('\\n'):\n",
    "            _sum += int(i)\n",
    "        Q.append(_sum)\n",
    "\n",
    "    return sorted(Q, reverse=True)[:3]"
   ]
  },
  {
   "cell_type": "code",
   "execution_count": null,
   "metadata": {},
   "outputs": [],
   "source": [
    "show_day_1()"
   ]
  },
  {
   "cell_type": "code",
   "execution_count": null,
   "metadata": {},
   "outputs": [],
   "source": [
    "Q = [l.strip() for l in open('day1.txt')]\n",
    "QQ = (' '.join(Q)).split(\"  \")\n",
    "QQ2 = [sum([int(j) for j in i.split()]) for i in QQ]\n",
    "\n",
    "sorted(QQ2)[-3:]"
   ]
  },
  {
   "cell_type": "markdown",
   "metadata": {},
   "source": [
    "## Day 2"
   ]
  },
  {
   "cell_type": "code",
   "execution_count": null,
   "metadata": {},
   "outputs": [],
   "source": [
    "X = [l.strip() for l in open('day2.txt')]\n",
    "\n",
    "part1_score = 0\n",
    "part2_score = 0\n",
    "for i in X:\n",
    "    op, pl = i.split()\n",
    "    \n",
    "    # determine won lost or draw point\n",
    "    part_1 = {('A', 'X'): 3, ('A', 'Y'): 6, ('A', 'Z'): 0,\n",
    "        ('B', 'X'): 0, ('B', 'Y'): 3, ('B', 'Z'): 6,\n",
    "        ('C', 'X'): 6, ('C', 'Y'): 0, ('C', 'Z'): 3,}[(op, pl)]\n",
    "\n",
    "    # determine player hand point\n",
    "    part_2 = {('A', 'X'): 3, ('A', 'Y'): 1, ('A', 'Z'): 2,\n",
    "        ('B', 'X'): 1, ('B', 'Y'): 2, ('B', 'Z'): 3,\n",
    "        ('C', 'X'): 2, ('C', 'Y'): 3, ('C', 'Z'): 1,}[(op, pl)]\n",
    "\n",
    "    part1_score += part_1 + {'X': 1, 'Y': 2, 'Z': 3}[pl]\n",
    "\n",
    "    part2_score += part_2 + {'X': 0, 'Y': 3, 'Z': 6}[pl]\n",
    "\n",
    "part1_score, part2_score # 13005, 11373\n"
   ]
  },
  {
   "cell_type": "markdown",
   "metadata": {},
   "source": [
    "## Day 3"
   ]
  },
  {
   "cell_type": "markdown",
   "metadata": {},
   "source": []
  },
  {
   "cell_type": "code",
   "execution_count": null,
   "metadata": {},
   "outputs": [],
   "source": [
    "from string import ascii_letters\n",
    "\n",
    "ss = ['abccc', 'd3ea3c', 'ecfra1']\n",
    "# [{*s} for s in ss]\n",
    "[{*s} for s in ss]\n"
   ]
  },
  {
   "cell_type": "code",
   "execution_count": null,
   "metadata": {},
   "outputs": [],
   "source": [
    "[*map(set, ss)]\n",
    "\n",
    "set.intersection(*map(set, ss))"
   ]
  },
  {
   "cell_type": "code",
   "execution_count": null,
   "metadata": {},
   "outputs": [],
   "source": [
    "matrix = [\n",
    "    [1, 2, 3, 4],\n",
    "    [5, 6, 7, 8]\n",
    "]\n",
    "\n",
    "zip(*matrix)\n",
    "\n"
   ]
  },
  {
   "cell_type": "markdown",
   "metadata": {},
   "source": [
    "## DAY 9"
   ]
  },
  {
   "cell_type": "code",
   "execution_count": 1,
   "metadata": {},
   "outputs": [],
   "source": [
    "import numpy as np\n",
    "import matplotlib as mpl\n",
    "import matplotlib.pyplot as plt"
   ]
  },
  {
   "cell_type": "code",
   "execution_count": 2,
   "metadata": {},
   "outputs": [],
   "source": [
    "# Create a grid of points in x-y space \n",
    "xvals = np.linspace(-4, 4, 9)\n",
    "yvals = np.linspace(-3, 3, 7)\n",
    "xygrid = np.column_stack([[x, y] for x in xvals for y in yvals])"
   ]
  },
  {
   "cell_type": "code",
   "execution_count": 3,
   "metadata": {},
   "outputs": [
    {
     "name": "stdout",
     "output_type": "stream",
     "text": [
      "[-4. -3. -2. -1.  0.  1.  2.  3.  4.]\n",
      "[-3. -2. -1.  0.  1.  2.  3.]\n",
      "\n",
      "[[-4.0, -3.0], [-4.0, -2.0], [-4.0, -1.0], [-4.0, 0.0], [-4.0, 1.0], [-4.0, 2.0], [-4.0, 3.0], [-3.0, -3.0], [-3.0, -2.0], [-3.0, -1.0], [-3.0, 0.0], [-3.0, 1.0], [-3.0, 2.0], [-3.0, 3.0], [-2.0, -3.0], [-2.0, -2.0], [-2.0, -1.0], [-2.0, 0.0], [-2.0, 1.0], [-2.0, 2.0], [-2.0, 3.0], [-1.0, -3.0], [-1.0, -2.0], [-1.0, -1.0], [-1.0, 0.0], [-1.0, 1.0], [-1.0, 2.0], [-1.0, 3.0], [0.0, -3.0], [0.0, -2.0], [0.0, -1.0], [0.0, 0.0], [0.0, 1.0], [0.0, 2.0], [0.0, 3.0], [1.0, -3.0], [1.0, -2.0], [1.0, -1.0], [1.0, 0.0], [1.0, 1.0], [1.0, 2.0], [1.0, 3.0], [2.0, -3.0], [2.0, -2.0], [2.0, -1.0], [2.0, 0.0], [2.0, 1.0], [2.0, 2.0], [2.0, 3.0], [3.0, -3.0], [3.0, -2.0], [3.0, -1.0], [3.0, 0.0], [3.0, 1.0], [3.0, 2.0], [3.0, 3.0], [4.0, -3.0], [4.0, -2.0], [4.0, -1.0], [4.0, 0.0], [4.0, 1.0], [4.0, 2.0], [4.0, 3.0]]\n",
      "\n",
      "[[-4. -4. -4. -4. -4. -4. -4. -3. -3. -3. -3. -3. -3. -3. -2. -2. -2. -2.\n",
      "  -2. -2. -2. -1. -1. -1. -1. -1. -1. -1.  0.  0.  0.  0.  0.  0.  0.  1.\n",
      "   1.  1.  1.  1.  1.  1.  2.  2.  2.  2.  2.  2.  2.  3.  3.  3.  3.  3.\n",
      "   3.  3.  4.  4.  4.  4.  4.  4.  4.]\n",
      " [-3. -2. -1.  0.  1.  2.  3. -3. -2. -1.  0.  1.  2.  3. -3. -2. -1.  0.\n",
      "   1.  2.  3. -3. -2. -1.  0.  1.  2.  3. -3. -2. -1.  0.  1.  2.  3. -3.\n",
      "  -2. -1.  0.  1.  2.  3. -3. -2. -1.  0.  1.  2.  3. -3. -2. -1.  0.  1.\n",
      "   2.  3. -3. -2. -1.  0.  1.  2.  3.]]\n"
     ]
    }
   ],
   "source": [
    "print(xvals)\n",
    "print(yvals)\n",
    "print()\n",
    "print([[x, y] for x in xvals for y in yvals])\n",
    "print()\n",
    "print(xygrid)"
   ]
  },
  {
   "cell_type": "code",
   "execution_count": null,
   "metadata": {},
   "outputs": [],
   "source": [
    "a = np.column_stack([[2, 1,],  [-1, 1,]])\n",
    "uvgrid = np.dot(a, xygrid)\n",
    "\n",
    "xygrid"
   ]
  },
  {
   "cell_type": "code",
   "execution_count": null,
   "metadata": {},
   "outputs": [],
   "source": [
    "%matplotlib widget\n",
    "\n",
    "plt.ion"
   ]
  },
  {
   "cell_type": "code",
   "execution_count": null,
   "metadata": {},
   "outputs": [],
   "source": [
    "plt.figure(figsize=(4, 4), facecolor='w')\n",
    "plt.scatter(xygrid[0], xygrid[1], s=36, edgecolors=\"none\")\n",
    "plt.grid(True)\n",
    "plt.axis(\"equal\")\n",
    "plt.title(\"Original grid in x-y plane\")"
   ]
  },
  {
   "cell_type": "code",
   "execution_count": null,
   "metadata": {},
   "outputs": [],
   "source": []
  }
 ],
 "metadata": {
  "kernelspec": {
   "display_name": "Python 3 (ipykernel)",
   "language": "python",
   "name": "python3"
  },
  "language_info": {
   "codemirror_mode": {
    "name": "ipython",
    "version": 3
   },
   "file_extension": ".py",
   "mimetype": "text/x-python",
   "name": "python",
   "nbconvert_exporter": "python",
   "pygments_lexer": "ipython3",
   "version": "3.10.6"
  },
  "vscode": {
   "interpreter": {
    "hash": "916dbcbb3f70747c44a77c7bcd40155683ae19c65e1c03b4aa3499c5328201f1"
   }
  }
 },
 "nbformat": 4,
 "nbformat_minor": 2
}
