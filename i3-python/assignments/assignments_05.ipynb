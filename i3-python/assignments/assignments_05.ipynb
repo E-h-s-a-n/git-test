{
 "cells": [
  {
   "cell_type": "markdown",
   "metadata": {},
   "source": [
    "## تمرین برای جلسه 5"
   ]
  },
  {
   "cell_type": "markdown",
   "metadata": {},
   "source": [
    "۱. تابعی بنویسید که از کاربر ورودی دریافت کند و ب م م را محاسبه کند.\n",
    "\n",
    "۲. تابعی بنویسید که از کاربر ورودی دریافت کند و ک م م را محاسبه کند.\n",
    "\n",
    "۳.با استفاده از توابع برسی کند یک عدد اول است یا خیر در غیر اینصورت مقسوم علیه های ان عدد را چاپ کند.\n",
    "\n",
    "۴. با استفاده از تایع یک عدد و یک رقم را خوانده و تعداد تکرار رقم در عدد را برمیگرداند."
   ]
  },
  {
   "cell_type": "markdown",
   "metadata": {},
   "source": [
    "###  تمرین ۱"
   ]
  },
  {
   "cell_type": "code",
   "execution_count": 81,
   "metadata": {},
   "outputs": [],
   "source": [
    "def gcd_basic(num1, num2):\n",
    "    '''return the greatest common divisor(gcd) of given numbers'''\n",
    "    \n",
    "    gcd = 1\n",
    "    # num1 is the smaller one\n",
    "    if num1 > num2:\n",
    "        num1, num2 = num2, num1\n",
    "    \n",
    "    if num1 == 0:\n",
    "        return num2\n",
    "    \n",
    "    for i in range(1, num1 + 1):\n",
    "        if (num1 % i) == 0 and (num2 % i) == 0:\n",
    "            gcd = i\n",
    "    return gcd"
   ]
  },
  {
   "cell_type": "code",
   "execution_count": 82,
   "metadata": {},
   "outputs": [
    {
     "name": "stdout",
     "output_type": "stream",
     "text": [
      "36\n",
      "12\n",
      "7\n",
      "10\n"
     ]
    }
   ],
   "source": [
    "print(gcd_basic(144, 36))\n",
    "print(gcd_basic(144, 12))\n",
    "print(gcd_basic(7, 7))\n",
    "print(gcd_basic(10, 0))"
   ]
  },
  {
   "cell_type": "markdown",
   "metadata": {},
   "source": [
    "<p style='direction: rtl;text-align: left;font-size:large'>دو تابع بعدی به کمک <a href=\"https://en.wikipedia.org/wiki/Euclidean_algorithm\">wikipedia</a></p>"
   ]
  },
  {
   "cell_type": "code",
   "execution_count": 83,
   "metadata": {},
   "outputs": [],
   "source": [
    "def gcd_euclidean(a, b):\n",
    "    '''\n",
    "    return gcd of given numbers using euclidean algorithms\n",
    "    '''\n",
    "    while b > 0:\n",
    "        a, b = b, a % b\n",
    "        # print(a, b)\n",
    "\n",
    "    return a"
   ]
  },
  {
   "cell_type": "code",
   "execution_count": 84,
   "metadata": {},
   "outputs": [],
   "source": [
    "def gcd_subtraction(a,b):\n",
    "\n",
    "    if a == 0: a = b\n",
    "    elif b == 0: b = a\n",
    "    \n",
    "    while a != b:\n",
    "        if a > b:\n",
    "            a = a - b\n",
    "        else:\n",
    "            b = b - a\n",
    "    \n",
    "    return a"
   ]
  },
  {
   "cell_type": "code",
   "execution_count": 85,
   "metadata": {},
   "outputs": [
    {
     "name": "stdout",
     "output_type": "stream",
     "text": [
      "12\n",
      "1\n",
      "100\n",
      "12\n"
     ]
    }
   ],
   "source": [
    "print(gcd_euclidean(144, 12))\n",
    "print(gcd_euclidean(17, 12))\n",
    "print(gcd_euclidean(100, 100))\n",
    "print(gcd_euclidean(0, 12))"
   ]
  },
  {
   "cell_type": "code",
   "execution_count": 86,
   "metadata": {},
   "outputs": [
    {
     "name": "stdout",
     "output_type": "stream",
     "text": [
      "1\n",
      "100\n",
      "25\n"
     ]
    }
   ],
   "source": [
    "print(gcd_subtraction(3, 20))\n",
    "print(gcd_subtraction(0, 100))\n",
    "print(gcd_subtraction(1400, 225))"
   ]
  },
  {
   "cell_type": "markdown",
   "metadata": {},
   "source": [
    "### تمرین ۲"
   ]
  },
  {
   "cell_type": "code",
   "execution_count": 87,
   "metadata": {},
   "outputs": [],
   "source": [
    "def lcm_basic(a, b):\n",
    "    '''return the least common multiple (lcm) of the given numbers'''\n",
    "    if a>b: # a is the smaller one\n",
    "        a, b = b, a\n",
    "   \n",
    "    for i in range(1, a+1):\n",
    "        if b*i % a == 0:\n",
    "            break\n",
    "    return b*i"
   ]
  },
  {
   "cell_type": "code",
   "execution_count": 88,
   "metadata": {},
   "outputs": [
    {
     "name": "stdout",
     "output_type": "stream",
     "text": [
      "110\n",
      "112\n",
      "1234\n"
     ]
    }
   ],
   "source": [
    "print(lcm_basic(10, 110))\n",
    "print(lcm_basic(16, 28))\n",
    "print(lcm_basic(1, 1234))"
   ]
  },
  {
   "cell_type": "markdown",
   "metadata": {},
   "source": [
    "با کمک از تمرین بالا (شماره ۱)"
   ]
  },
  {
   "cell_type": "code",
   "execution_count": 89,
   "metadata": {},
   "outputs": [],
   "source": [
    "def lcm_fast(a, b):\n",
    "    '''return the least common multiple (lcm) of the given numbers using their gcd'''\n",
    "    if a>b: # a is the smaller one\n",
    "        a, b = b, a\n",
    "\n",
    "    return (b // gcd_euclidean(a,b)) * a"
   ]
  },
  {
   "cell_type": "code",
   "execution_count": 90,
   "metadata": {},
   "outputs": [
    {
     "name": "stdout",
     "output_type": "stream",
     "text": [
      "110\n",
      "112\n",
      "1234\n"
     ]
    }
   ],
   "source": [
    "print(lcm_fast(10, 110))\n",
    "print(lcm_fast(16, 28))\n",
    "print(lcm_fast(1, 1234))"
   ]
  },
  {
   "cell_type": "markdown",
   "metadata": {},
   "source": [
    "### تمرین ۳"
   ]
  },
  {
   "cell_type": "code",
   "execution_count": 113,
   "metadata": {},
   "outputs": [],
   "source": [
    "import math\n",
    "\n",
    "def is_prime(num):\n",
    "\n",
    "    #special case for 2 and even numbers\n",
    "    if num == 2:\n",
    "        return True\n",
    "    elif num % 2 == 0:\n",
    "        return False\n",
    "\n",
    "    is_prime = True\n",
    "    max_range = int(math.sqrt(num) + 1)\n",
    "\n",
    "    for i in range(3, max_range, 2):\n",
    "        if (num % i == 0):\n",
    "            is_prime = False\n",
    "            break\n",
    "        \n",
    "    return is_prime\n",
    "\n",
    "def get_divisor(num):\n",
    "    divisor = []\n",
    "    range_stop = int(math.sqrt(num)) + 1\n",
    "\n",
    "    for m in range(1, range_stop):\n",
    "        \n",
    "        if num % m == 0:\n",
    "            divisor.append(m)\n",
    "            if m != num // m:\n",
    "                divisor.append((num // m))\n",
    "\n",
    "    return divisor\n",
    "\n",
    "def main(number):\n",
    "    if is_prime(number):\n",
    "        print('it\\'s a prime number')\n",
    "    else:\n",
    "        print(get_divisor(number))\n"
   ]
  },
  {
   "cell_type": "code",
   "execution_count": 116,
   "metadata": {},
   "outputs": [
    {
     "name": "stdout",
     "output_type": "stream",
     "text": [
      "[1, 130, 2, 65, 5, 26, 10, 13]\n",
      "it's a prime number\n"
     ]
    }
   ],
   "source": [
    "main(130)\n",
    "main(13)"
   ]
  },
  {
   "cell_type": "markdown",
   "metadata": {},
   "source": [
    "### تمرین ۴"
   ]
  },
  {
   "cell_type": "code",
   "execution_count": 8,
   "metadata": {},
   "outputs": [],
   "source": [
    "def get_num_repeat(number, digit):\n",
    "    count = 0\n",
    "    for i in number:\n",
    "        if i == digit:\n",
    "            count += 1\n",
    "    return count"
   ]
  },
  {
   "cell_type": "code",
   "execution_count": 20,
   "metadata": {},
   "outputs": [
    {
     "name": "stdout",
     "output_type": "stream",
     "text": [
      "3\n",
      "0\n"
     ]
    }
   ],
   "source": [
    "print(get_num_repeat('4231335', '3'))\n",
    "print(get_num_repeat('1563490321', '8'))"
   ]
  }
 ],
 "metadata": {
  "kernelspec": {
   "display_name": "Python 3 (ipykernel)",
   "language": "python",
   "name": "python3"
  },
  "language_info": {
   "codemirror_mode": {
    "name": "ipython",
    "version": 3
   },
   "file_extension": ".py",
   "mimetype": "text/x-python",
   "name": "python",
   "nbconvert_exporter": "python",
   "pygments_lexer": "ipython3",
   "version": "3.10.6"
  },
  "vscode": {
   "interpreter": {
    "hash": "916dbcbb3f70747c44a77c7bcd40155683ae19c65e1c03b4aa3499c5328201f1"
   }
  }
 },
 "nbformat": 4,
 "nbformat_minor": 2
}
