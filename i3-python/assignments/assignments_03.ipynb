{
 "cells": [
  {
   "cell_type": "markdown",
   "id": "29e310a9",
   "metadata": {},
   "source": [
    "## تمرین برای جلسه 3"
   ]
  },
  {
   "cell_type": "markdown",
   "id": "b82bdece",
   "metadata": {},
   "source": [
    "### تمرین یک\n",
    "\n",
    "برنامه ای بنویسید که عداد منفی و عداد مثبت لیست زیر را در دو لیست جدید زخیره کند\n",
    "\n",
    "`Mylist=[112,1,-15,50,36,-8,-3,22,-1,2]`"
   ]
  },
  {
   "cell_type": "code",
   "execution_count": 26,
   "id": "cfcd17f8",
   "metadata": {},
   "outputs": [
    {
     "name": "stdout",
     "output_type": "stream",
     "text": [
      "[112, 1, 50, 36, 22, 2]\n",
      "[-15, -8, -3, -1]\n"
     ]
    }
   ],
   "source": [
    "myList = [112, 1, -15, 50, 36, -8, -3, 22, -1, 2]\n",
    "\n",
    "positive = []\n",
    "negative = []\n",
    "for n in myList:\n",
    "    if n >= 0:\n",
    "        positive.append(n)\n",
    "    else:\n",
    "        negative.append(n)\n",
    "\n",
    "print(positive)\n",
    "print(negative)"
   ]
  },
  {
   "cell_type": "markdown",
   "id": "34232ff0",
   "metadata": {},
   "source": [
    "### تمرین دو\n",
    "\n",
    "برنامه ای بنویسید که عناصر لیست زیر را تبدیل به مربع کند و در لیست جدید زخیره کند(به ترتیب نمایش داده شود)\n",
    "\n",
    "`List1=[3,25,6,8,9,11,15,7]`"
   ]
  },
  {
   "cell_type": "code",
   "execution_count": 25,
   "id": "5ef11065",
   "metadata": {},
   "outputs": [
    {
     "name": "stdout",
     "output_type": "stream",
     "text": [
      "[9, 36, 49, 64, 81, 121, 225, 625]\n"
     ]
    }
   ],
   "source": [
    "List1=[3,25,6,8,9,11,15,7]\n",
    "squared = []\n",
    "\n",
    "for item in List1:\n",
    "    squared.append(item**2)\n",
    "    \n",
    "squared.sort()\n",
    "print(squared)"
   ]
  },
  {
   "cell_type": "markdown",
   "id": "54cdf628",
   "metadata": {},
   "source": [
    "### تمرین سوم\n",
    "\n",
    "برنامه ای بنویسید که از کاربر عدد دریافت کند اگر عدد اول بود چاپ کنه yes در غیر اینصورت no"
   ]
  },
  {
   "cell_type": "code",
   "execution_count": 33,
   "id": "df309412",
   "metadata": {},
   "outputs": [
    {
     "name": "stdout",
     "output_type": "stream",
     "text": [
      "Number: 53426342676401, is prime: No!\n"
     ]
    }
   ],
   "source": [
    "import math\n",
    "\n",
    "input_number = int(input('enter an integer number? '))\n",
    "\n",
    "if input_number < 1:\n",
    "    print(\"Please give a positive number!\")\n",
    "\n",
    "else:\n",
    "    max_range = int(math.sqrt(input_number)) + 1\n",
    "    is_prime = 'Yes'\n",
    "\n",
    "    for i in range(2, max_range):\n",
    "        if (input_number % i == 0):\n",
    "            is_prime = 'No'\n",
    "            # print(i)\n",
    "            # break\n",
    "    \n",
    "    print(f'Number: {input_number}, is prime: {is_prime}!')\n"
   ]
  },
  {
   "cell_type": "markdown",
   "id": "54cdf628",
   "metadata": {},
   "source": [
    "### تمرین سوم\n",
    "\n",
    "برنامه ای بنویسید که از کاربر عدد دریافت کند و تمام مقسوم علیه های انرا در یک لیست ذخیره کند و نمایش بدهد(صعودی)"
   ]
  },
  {
   "cell_type": "code",
   "execution_count": 15,
   "id": "a13a80fd",
   "metadata": {},
   "outputs": [
    {
     "name": "stdout",
     "output_type": "stream",
     "text": [
      "[1, 2, 3, 4, 6, 8, 9, 12, 16, 18, 24, 36, 48, 72, 144]\n"
     ]
    }
   ],
   "source": [
    "import math\n",
    "\n",
    "user_number = int(input(\"Please input a positive integer number? \"))\n",
    "divisor = []\n",
    "\n",
    "range_stop = int(math.sqrt(user_number)) + 1\n",
    "for m in range(1, range_stop):\n",
    "    \n",
    "    if user_number % m == 0:\n",
    "        divisor.append(m)\n",
    "        if m != user_number // m:\n",
    "            divisor.append((user_number // m))\n",
    "divisor.sort()\n",
    "\n",
    "print(divisor)\n"
   ]
  }
 ],
 "metadata": {
  "kernelspec": {
   "display_name": "Python 3.10.6 64-bit",
   "language": "python",
   "name": "python3"
  },
  "language_info": {
   "codemirror_mode": {
    "name": "ipython",
    "version": 3
   },
   "file_extension": ".py",
   "mimetype": "text/x-python",
   "name": "python",
   "nbconvert_exporter": "python",
   "pygments_lexer": "ipython3",
   "version": "3.10.6"
  },
  "vscode": {
   "interpreter": {
    "hash": "916dbcbb3f70747c44a77c7bcd40155683ae19c65e1c03b4aa3499c5328201f1"
   }
  }
 },
 "nbformat": 4,
 "nbformat_minor": 5
}
