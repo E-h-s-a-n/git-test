{
 "cells": [
  {
   "cell_type": "markdown",
   "id": "29e310a9",
   "metadata": {},
   "source": [
    "## تمرین برای جلسه ۲"
   ]
  },
  {
   "cell_type": "markdown",
   "id": "b82bdece",
   "metadata": {},
   "source": [
    "### تمرین یک\n",
    "\n",
    "برنامه ای که سه مقدار از ورودی خوانده و انها را به ترتیب صعودی چاپ کند"
   ]
  },
  {
   "cell_type": "code",
   "execution_count": 19,
   "id": "6964b2df",
   "metadata": {},
   "outputs": [
    {
     "name": "stdout",
     "output_type": "stream",
     "text": [
      "input numbers: -22 0 120\n",
      "       sorted: 120 0 -22\n"
     ]
    }
   ],
   "source": [
    "num1 = int(input(\"please enter an integer number: \"))\n",
    "num2 = int(input(\"please enter an integer number: \"))\n",
    "num3 = int(input(\"please enter an integer number: \"))\n",
    "\n",
    "print(\"input numbers:\", num1, num2, num3)\n",
    "print(\"output sorted:\", end=' ',)\n",
    "if num1 > num2:\n",
    "    if num2 > num3:\n",
    "        print(num1, num2, num3)\n",
    "    elif num1 > num3:\n",
    "        print(num1, num3, num2)\n",
    "    else: #num3>num1\n",
    "        print(num3, num1, num2)\n",
    "\n",
    "else: # num2 > num1\n",
    "    if num1 > num3:\n",
    "        print(num2, num1, num3)\n",
    "    elif num2 > num3:\n",
    "        print(num2, num3, num1)\n",
    "    else:\n",
    "        print(num3, num2, num1)\n"
   ]
  },
  {
   "cell_type": "markdown",
   "id": "34232ff0",
   "metadata": {},
   "source": [
    "### تمرین دو\n",
    "برنامه ای که شعاع کره ای را خوانده مساحت و حجم کره را محاسبه میکند"
   ]
  },
  {
   "cell_type": "code",
   "execution_count": 20,
   "id": "8cb73fc5",
   "metadata": {},
   "outputs": [
    {
     "name": "stdout",
     "output_type": "stream",
     "text": [
      "\n",
      "Sphere radius: 3.14\n",
      " Surface Area: 123.89573360000001\n",
      "       Volume: 129.67753450133335\n"
     ]
    }
   ],
   "source": [
    "PI = 3.1415\n",
    "r = float(input(\"What's the radius of the Sphere? \")) #radius\n",
    "\n",
    "surface = 4 * PI * (r**2)\n",
    "volume = 4 * PI * (r**3) / 3\n",
    "print(\"\")\n",
    "print(\"Sphere radius:\", r)\n",
    "print(\" Surface Area:\", surface)\n",
    "print(\"       Volume:\", volume)"
   ]
  },
  {
   "cell_type": "markdown",
   "id": "54cdf628",
   "metadata": {},
   "source": [
    "### تمرین سوم\n",
    "\n",
    "برنامه ای که سال تولد کاربر و سال فعلی را گرفته و مشخص میکند که چند سال چند ماه و چند روز چند دقیقه و چند ثانیه عمر کرده است"
   ]
  },
  {
   "cell_type": "code",
   "execution_count": 21,
   "id": "96cd431d",
   "metadata": {},
   "outputs": [
    {
     "name": "stdout",
     "output_type": "stream",
     "text": [
      "A cute little baby!\n",
      "You have lived 2 year(s) 24 month 720 days\n",
      "            +  1036800 minutes and 62208000 seconds\n"
     ]
    }
   ],
   "source": [
    "birth_year = int(input(\"Can you tell me your birthyear please? \"))\n",
    "current_year = int(input(\"Can you tell me the current year? \"))\n",
    "\n",
    "diff = current_year - birth_year\n",
    "if diff > 0:\n",
    "    months = diff * 12\n",
    "    days = months * 30\n",
    "    minutes = days * 24 * 60\n",
    "    seconds = minutes * 60\n",
    "    if diff<3:\n",
    "        print(\"A cute little baby!\")\n",
    "    \n",
    "    print('You have lived', diff, 'year(s)', months, 'month', days, 'days')\n",
    "    print('            + ', minutes, 'minutes', 'and', seconds, 'seconds')\n",
    "else:\n",
    "    print(\"Invalid inputs!\")"
   ]
  },
  {
   "cell_type": "markdown",
   "id": "28a8c9c0",
   "metadata": {},
   "source": []
  }
 ],
 "metadata": {
  "kernelspec": {
   "display_name": "Python 3.10.6 64-bit",
   "language": "python",
   "name": "python3"
  },
  "language_info": {
   "codemirror_mode": {
    "name": "ipython",
    "version": 3
   },
   "file_extension": ".py",
   "mimetype": "text/x-python",
   "name": "python",
   "nbconvert_exporter": "python",
   "pygments_lexer": "ipython3",
   "version": "3.10.6"
  },
  "vscode": {
   "interpreter": {
    "hash": "916dbcbb3f70747c44a77c7bcd40155683ae19c65e1c03b4aa3499c5328201f1"
   }
  }
 },
 "nbformat": 4,
 "nbformat_minor": 5
}
