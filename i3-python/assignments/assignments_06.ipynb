{
 "cells": [
  {
   "cell_type": "markdown",
   "metadata": {},
   "source": [
    "### تمرین ۱"
   ]
  },
  {
   "cell_type": "code",
   "execution_count": 1,
   "metadata": {},
   "outputs": [],
   "source": [
    "class Calculator():\n",
    "\n",
    "    def __init__(self, operator, operand1, operand2) -> None:\n",
    "        self.operator = operator\n",
    "        self.operand1 = operand1\n",
    "        self.operand2 = operand2\n",
    "\n",
    "    def add(self):\n",
    "        return self.operand1 + self.operand2\n",
    "\n",
    "    def subtract(self):\n",
    "        return self.operand1 - self.operand2\n",
    "\n",
    "    def multiply(self):\n",
    "        return self.operand1 * self.operand2\n",
    "\n",
    "    def divide(self):\n",
    "        return self.operand1 / self.operand2\n",
    "\n",
    "    def power(self):\n",
    "        return self.operand1 ** self.operand2\n",
    "\n",
    "    def show_result(self):\n",
    "        result = \"ERROR\"\n",
    "        \n",
    "        if self.operator == '+':\n",
    "            result = self.add()\n",
    "\n",
    "        elif self.operator == '-':\n",
    "            result = self.subtract()\n",
    "\n",
    "        elif self.operator == '*':\n",
    "            result = self.multiply()\n",
    "\n",
    "        elif self.operator == '/':\n",
    "\n",
    "            if self.operand2:\n",
    "                result = self.divide()\n",
    "\n",
    "        elif self.operator == '**':\n",
    "            result = self.power()\n",
    "\n",
    "        return result"
   ]
  },
  {
   "cell_type": "code",
   "execution_count": 10,
   "metadata": {},
   "outputs": [],
   "source": [
    "def main():\n",
    "\n",
    "    while True:\n",
    "        operator = input(\"Select an operator between +  -  *  / or exit: \")\n",
    "        \n",
    "        if operator == 'exit':\n",
    "            # print(\"you've selected:\", operator)\n",
    "            break\n",
    "        elif operator not in ['+', '-', '*', '/', '**']:\n",
    "            print(\"invalid operator\", operator)\n",
    "            continue\n",
    "\n",
    "        \n",
    "        operand1 = float(input(\"Type in your first number: \"))\n",
    "        operand2 = float(input(\"Type in your seceond number: \"))\n",
    "\n",
    "        my_calc = Calculator(operator, operand1, operand2)\n",
    "\n",
    "        print(f'Result: {operand1} {operator} {operand2} = {my_calc.show_result()}',\n",
    "              end='\\n\\n')"
   ]
  },
  {
   "cell_type": "code",
   "execution_count": 11,
   "metadata": {},
   "outputs": [
    {
     "name": "stdout",
     "output_type": "stream",
     "text": [
      "Select an operator between +  -  *  / or exit: 34\n",
      "invalid operator 34\n",
      "Select an operator between +  -  *  / or exit: /\n",
      "Type in your first number: 50\n",
      "Type in your seceond number: 2\n",
      "Result: 50.0 / 2.0 = 25.0\n",
      "\n",
      "Select an operator between +  -  *  / or exit: 50\n",
      "invalid operator 50\n",
      "Select an operator between +  -  *  / or exit: *\n",
      "Type in your first number: 123\n",
      "Type in your seceond number: 0.25\n",
      "Result: 123.0 * 0.25 = 30.75\n",
      "\n",
      "Select an operator between +  -  *  / or exit: exit\n"
     ]
    }
   ],
   "source": [
    "main()"
   ]
  },
  {
   "cell_type": "code",
   "execution_count": null,
   "metadata": {},
   "outputs": [],
   "source": []
  }
 ],
 "metadata": {
  "kernelspec": {
   "display_name": "Python 3 (ipykernel)",
   "language": "python",
   "name": "python3"
  },
  "language_info": {
   "codemirror_mode": {
    "name": "ipython",
    "version": 3
   },
   "file_extension": ".py",
   "mimetype": "text/x-python",
   "name": "python",
   "nbconvert_exporter": "python",
   "pygments_lexer": "ipython3",
   "version": "3.7.3"
  },
  "vscode": {
   "interpreter": {
    "hash": "31f2aee4e71d21fbe5cf8b01ff0e069b9275f58929596ceb00d14d90e3e16cd6"
   }
  }
 },
 "nbformat": 4,
 "nbformat_minor": 2
}
