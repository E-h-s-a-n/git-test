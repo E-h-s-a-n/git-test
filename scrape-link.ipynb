{
 "cells": [
  {
   "cell_type": "code",
   "execution_count": 49,
   "metadata": {},
   "outputs": [],
   "source": [
    "import requests\n",
    "import bs4"
   ]
  },
  {
   "cell_type": "code",
   "execution_count": null,
   "metadata": {},
   "outputs": [],
   "source": [
    "base_url = \"https://www.theodinproject.com/paths/foundations/courses/foundations\"\n",
    "base_response = requests.get(base_url)\n",
    "\n",
    "for (k) in base_response.headers.items():\n",
    "    print(k)\n"
   ]
  },
  {
   "cell_type": "code",
   "execution_count": null,
   "metadata": {},
   "outputs": [],
   "source": [
    "response = requests.get(\n",
    "    'https://api.github.com/search/repositories',\n",
    "    params={'q': 'requests+language:python'},\n",
    ")\n",
    "# max = len(response.json()['items'])\n",
    "print(sorted(response.json()['items'][0].keys()))\n",
    "print()\n",
    "sds = 2034\n",
    "for k,i in enumerate(response.json()['items'],1):\n",
    "        print(f\"{k}: {i['name']} | {i['description']} | {i['owner']['login']}\")\n",
    "        # print()\n"
   ]
  },
  {
   "cell_type": "code",
   "execution_count": 56,
   "metadata": {},
   "outputs": [],
   "source": [
    "\n",
    "URL = \"https://realpython.github.io/fake-jobs/\"\n",
    "jobs_page = requests.get(URL)"
   ]
  },
  {
   "cell_type": "code",
   "execution_count": 73,
   "metadata": {},
   "outputs": [],
   "source": [
    "soup = bs4.BeautifulSoup(jobs_page.content,\"html.parser\")"
   ]
  },
  {
   "cell_type": "code",
   "execution_count": null,
   "metadata": {},
   "outputs": [],
   "source": [
    "result_1 = soup.find(id='ResultsContainer').find_all('div', class_=\"card-content\")\n",
    "for e, i in enumerate(result_1, 1):\n",
    "    title = i.find('h2', class_=\"title\")\n",
    "    company = i.find('h3', class_=\"company\")\n",
    "    location = i.find('p', class_=\"location\")\n",
    "    print(e)\n",
    "    print(title.text)\n",
    "    print(company.text)\n",
    "    print(location.text.strip())\n",
    "    print()"
   ]
  },
  {
   "cell_type": "code",
   "execution_count": 142,
   "metadata": {},
   "outputs": [
    {
     "name": "stdout",
     "output_type": "stream",
     "text": [
      "1\n",
      "Senior Python Developer\n",
      "Payne, Roberts and Davis\n",
      "Stewartbury, AA\n",
      "2\n",
      "Software Engineer (Python)\n",
      "Garcia PLC\n",
      "Ericberg, AE\n",
      "3\n",
      "Python Programmer (Entry-Level)\n",
      "Moss, Duncan and Allen\n",
      "Port Sara, AE\n",
      "4\n",
      "Python Programmer (Entry-Level)\n",
      "Cooper and Sons\n",
      "West Victor, AE\n",
      "5\n",
      "Software Developer (Python)\n",
      "Adams-Brewer\n",
      "Brockburgh, AE\n",
      "6\n",
      "Python Developer\n",
      "Rivera and Sons\n",
      "East Michaelfort, AA\n",
      "7\n",
      "Back-End Web Developer (Python, Django)\n",
      "Stewart-Alexander\n",
      "South Kimberly, AA\n",
      "8\n",
      "Back-End Web Developer (Python, Django)\n",
      "Jackson, Ali and Mckee\n",
      "New Elizabethside, AA\n",
      "9\n",
      "Python Programmer (Entry-Level)\n",
      "Mathews Inc\n",
      "Robertborough, AP\n",
      "10\n",
      "Software Developer (Python)\n",
      "Moreno-Rodriguez\n",
      "Martinezburgh, AE\n"
     ]
    }
   ],
   "source": [
    "result = soup.find(id=\"ResultsContainer\")\n",
    "python_jobs = result.find_all(\"h2\", string=lambda text: 'python' in text.lower())\n",
    "\n",
    "python_job_elements = [i.parent.parent.parent for i in python_jobs]\n",
    "for e, i in enumerate(python_job_elements, 1):\n",
    "    title = i.find('h2', class_=\"title\")\n",
    "    company = i.find('h3', class_=\"company\")\n",
    "    location = i.find('p', class_=\"location\")\n",
    "    link = i.find_all('a')\n",
    "    print(e)\n",
    "    print(title.text)\n",
    "    print(company.text)\n",
    "    print(location.text.strip())"
   ]
  }
 ],
 "metadata": {
  "kernelspec": {
   "display_name": "Python 3.10.6 64-bit",
   "language": "python",
   "name": "python3"
  },
  "language_info": {
   "codemirror_mode": {
    "name": "ipython",
    "version": 3
   },
   "file_extension": ".py",
   "mimetype": "text/x-python",
   "name": "python",
   "nbconvert_exporter": "python",
   "pygments_lexer": "ipython3",
   "version": "3.10.6"
  },
  "orig_nbformat": 4,
  "vscode": {
   "interpreter": {
    "hash": "916dbcbb3f70747c44a77c7bcd40155683ae19c65e1c03b4aa3499c5328201f1"
   }
  }
 },
 "nbformat": 4,
 "nbformat_minor": 2
}
