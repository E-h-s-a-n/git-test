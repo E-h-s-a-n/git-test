{
 "cells": [
  {
   "cell_type": "code",
   "execution_count": 49,
   "metadata": {},
   "outputs": [],
   "source": [
    "import requests\n",
    "import bs4"
   ]
  },
  {
   "cell_type": "code",
   "execution_count": null,
   "metadata": {},
   "outputs": [],
   "source": [
    "base_url = \"https://www.theodinproject.com/paths/foundations/courses/foundations\"\n",
    "base_response = requests.get(base_url)\n",
    "\n",
    "for (k) in base_response.headers.items():\n",
    "    print(k)\n"
   ]
  },
  {
   "cell_type": "code",
   "execution_count": null,
   "metadata": {},
   "outputs": [],
   "source": [
    "response = requests.get(\n",
    "    'https://api.github.com/search/repositories',\n",
    "    params={'q': 'requests+language:python'},\n",
    ")\n",
    "# max = len(response.json()['items'])\n",
    "print(sorted(response.json()['items'][0].keys()))\n",
    "print()\n",
    "sds = 2034\n",
    "for k,i in enumerate(response.json()['items'],1):\n",
    "        print(f\"{k}: {i['name']} | {i['description']} | {i['owner']['login']}\")\n",
    "        # print()\n"
   ]
  },
  {
   "cell_type": "code",
   "execution_count": 56,
   "metadata": {},
   "outputs": [],
   "source": [
    "\n",
    "URL = \"https://realpython.github.io/fake-jobs/\"\n",
    "jobs_page = requests.get(URL)"
   ]
  },
  {
   "cell_type": "code",
   "execution_count": 73,
   "metadata": {},
   "outputs": [],
   "source": [
    "soup = bs4.BeautifulSoup(jobs_page.content,\"html.parser\")"
   ]
  },
  {
   "cell_type": "code",
   "execution_count": null,
   "metadata": {},
   "outputs": [],
   "source": [
    "result_1 = soup.find(id='ResultsContainer').find_all('div', class_=\"card-content\")\n",
    "for e, i in enumerate(result_1, 1):\n",
    "    title = i.find('h2', class_=\"title\")\n",
    "    company = i.find('h3', class_=\"company\")\n",
    "    location = i.find('p', class_=\"location\")\n",
    "    print(e)\n",
    "    print(title.text)\n",
    "    print(company.text)\n",
    "    print(location.text.strip())\n",
    "    print()"
   ]
  },
  {
   "cell_type": "code",
   "execution_count": 170,
   "metadata": {},
   "outputs": [
    {
     "name": "stdout",
     "output_type": "stream",
     "text": [
      "1\n",
      "Senior Python Developer\n",
      "Payne, Roberts and Davis\n",
      "Stewartbury, AA\n",
      "https://realpython.github.io/fake-jobs/jobs/senior-python-developer-0.html\n",
      "2\n",
      "Software Engineer (Python)\n",
      "Garcia PLC\n",
      "Ericberg, AE\n",
      "https://realpython.github.io/fake-jobs/jobs/software-engineer-python-10.html\n",
      "3\n",
      "Python Programmer (Entry-Level)\n",
      "Moss, Duncan and Allen\n",
      "Port Sara, AE\n",
      "https://realpython.github.io/fake-jobs/jobs/python-programmer-entry-level-20.html\n",
      "4\n",
      "Python Programmer (Entry-Level)\n",
      "Cooper and Sons\n",
      "West Victor, AE\n",
      "https://realpython.github.io/fake-jobs/jobs/python-programmer-entry-level-30.html\n",
      "5\n",
      "Software Developer (Python)\n",
      "Adams-Brewer\n",
      "Brockburgh, AE\n",
      "https://realpython.github.io/fake-jobs/jobs/software-developer-python-40.html\n",
      "6\n",
      "Python Developer\n",
      "Rivera and Sons\n",
      "East Michaelfort, AA\n",
      "https://realpython.github.io/fake-jobs/jobs/python-developer-50.html\n",
      "7\n",
      "Back-End Web Developer (Python, Django)\n",
      "Stewart-Alexander\n",
      "South Kimberly, AA\n",
      "https://realpython.github.io/fake-jobs/jobs/back-end-web-developer-python-django-60.html\n",
      "8\n",
      "Back-End Web Developer (Python, Django)\n",
      "Jackson, Ali and Mckee\n",
      "New Elizabethside, AA\n",
      "https://realpython.github.io/fake-jobs/jobs/back-end-web-developer-python-django-70.html\n",
      "9\n",
      "Python Programmer (Entry-Level)\n",
      "Mathews Inc\n",
      "Robertborough, AP\n",
      "https://realpython.github.io/fake-jobs/jobs/python-programmer-entry-level-80.html\n",
      "10\n",
      "Software Developer (Python)\n",
      "Moreno-Rodriguez\n",
      "Martinezburgh, AE\n",
      "https://realpython.github.io/fake-jobs/jobs/software-developer-python-90.html\n"
     ]
    }
   ],
   "source": [
    "result = soup.find(id=\"ResultsContainer\")\n",
    "python_jobs = result.find_all(\"h2\", string=lambda text: 'python' in text.lower())\n",
    "\n",
    "python_job_elements = [i.parent.parent.parent for i in python_jobs]\n",
    "for e, i in enumerate(python_job_elements, 1):\n",
    "    title = i.find('h2', class_=\"title\")\n",
    "    company = i.find('h3', class_=\"company\")\n",
    "    location = i.find('p', class_=\"location\")\n",
    "    link = i.find_all('a')[1]['href']\n",
    "    print(e)\n",
    "    print(title.text)\n",
    "    print(company.text)\n",
    "    print(location.text.strip())\n",
    "    print(link)"
   ]
  },
  {
   "cell_type": "code",
   "execution_count": 174,
   "metadata": {},
   "outputs": [
    {
     "data": {
      "text/plain": [
       "<Response [200]>"
      ]
     },
     "execution_count": 174,
     "metadata": {},
     "output_type": "execute_result"
    }
   ],
   "source": [
    "url_odin = \"https://www.theodinproject.com/paths/foundations/courses/foundations\"\n",
    "response_odin = requests.get(url_odin)"
   ]
  },
  {
   "cell_type": "code",
   "execution_count": 208,
   "metadata": {},
   "outputs": [],
   "source": [
    "soup_odin = bs4.BeautifulSoup(response_odin.content,'html.parser')\n",
    "links = soup_odin.find_all('a')\n",
    "\n",
    "lesson_links = [i[\"href\"] for i in links if '.com/lessons' in i[\"href\"]]\n",
    "lesson_names = [\" \".join(i.split('-')[1:]) for i in lesson_links]\n"
   ]
  },
  {
   "cell_type": "markdown",
   "metadata": {},
   "source": [
    "gathering each foundation lesson additional section links"
   ]
  },
  {
   "cell_type": "code",
   "execution_count": 249,
   "metadata": {},
   "outputs": [],
   "source": [
    "from time import sleep\n",
    "\n",
    "\n",
    "aa_links = []\n",
    "for e,link in enumerate(lesson_links):\n",
    "\n",
    "    aa_response = requests.get(link)\n",
    "    aa_soup = bs4.BeautifulSoup(aa_response.content, 'html.parser')\n",
    "    aa_section = aa_soup.find(id=\"additional-resources\")\n",
    "    aa_links_temp = []\n",
    "    if aa_section:\n",
    "        aa_links_temp = [(i.text, i['href']) for i in aa_section.find_all('a') if \"http\" in i[\"href\"]]\n",
    "    aa_links.append((lesson_names[e], aa_links_temp))\n",
    "    sleep(2)\n"
   ]
  },
  {
   "cell_type": "code",
   "execution_count": null,
   "metadata": {},
   "outputs": [],
   "source": []
  },
  {
   "cell_type": "code",
   "execution_count": 293,
   "metadata": {},
   "outputs": [],
   "source": [
    "def createMarkDown():\n",
    "    with open('markdown.md', 'w') as md:\n",
    "        md.writelines(\"# Odin Additional links\\n\\n\")\n",
    "        for i in aa_links:\n",
    "            md.writelines(f\"## {i[0]}\\n\\n\")\n",
    "            if i[1]==[]: continue\n",
    "            for j in i[1]:\n",
    "                md.write(f\"* [{j[0]}]({j[1]})\\n\\n\")\n",
    "\n",
    "# dont run again yet\n",
    "# createMarkDown()"
   ]
  }
 ],
 "metadata": {
  "kernelspec": {
   "display_name": "Python 3.10.6 64-bit",
   "language": "python",
   "name": "python3"
  },
  "language_info": {
   "codemirror_mode": {
    "name": "ipython",
    "version": 3
   },
   "file_extension": ".py",
   "mimetype": "text/x-python",
   "name": "python",
   "nbconvert_exporter": "python",
   "pygments_lexer": "ipython3",
   "version": "3.10.6"
  },
  "orig_nbformat": 4,
  "vscode": {
   "interpreter": {
    "hash": "916dbcbb3f70747c44a77c7bcd40155683ae19c65e1c03b4aa3499c5328201f1"
   }
  }
 },
 "nbformat": 4,
 "nbformat_minor": 2
}
