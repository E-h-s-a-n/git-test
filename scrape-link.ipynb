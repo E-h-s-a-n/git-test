{
 "cells": [
  {
   "cell_type": "code",
   "execution_count": 69,
   "metadata": {},
   "outputs": [],
   "source": [
    "import requests\n",
    "import bs4"
   ]
  },
  {
   "cell_type": "code",
   "execution_count": 70,
   "metadata": {},
   "outputs": [
    {
     "ename": "KeyboardInterrupt",
     "evalue": "",
     "output_type": "error",
     "traceback": [
      "\u001b[0;31m---------------------------------------------------------------------------\u001b[0m",
      "\u001b[0;31mKeyboardInterrupt\u001b[0m                         Traceback (most recent call last)",
      "Cell \u001b[0;32mIn [70], line 2\u001b[0m\n\u001b[1;32m      1\u001b[0m base_url \u001b[39m=\u001b[39m \u001b[39m\"\u001b[39m\u001b[39mhttps://www.theodinproject.com/paths/foundations/courses/foundations\u001b[39m\u001b[39m\"\u001b[39m\n\u001b[0;32m----> 2\u001b[0m base_response \u001b[39m=\u001b[39m requests\u001b[39m.\u001b[39;49mget(base_url)\n\u001b[1;32m      4\u001b[0m \u001b[39mfor\u001b[39;00m (k) \u001b[39min\u001b[39;00m base_response\u001b[39m.\u001b[39mheaders\u001b[39m.\u001b[39mitems():\n\u001b[1;32m      5\u001b[0m     \u001b[39mprint\u001b[39m(k)\n",
      "File \u001b[0;32m~/.local/lib/python3.10/site-packages/requests/api.py:73\u001b[0m, in \u001b[0;36mget\u001b[0;34m(url, params, **kwargs)\u001b[0m\n\u001b[1;32m     62\u001b[0m \u001b[39mdef\u001b[39;00m \u001b[39mget\u001b[39m(url, params\u001b[39m=\u001b[39m\u001b[39mNone\u001b[39;00m, \u001b[39m*\u001b[39m\u001b[39m*\u001b[39mkwargs):\n\u001b[1;32m     63\u001b[0m     \u001b[39mr\u001b[39m\u001b[39m\"\"\"Sends a GET request.\u001b[39;00m\n\u001b[1;32m     64\u001b[0m \n\u001b[1;32m     65\u001b[0m \u001b[39m    :param url: URL for the new :class:`Request` object.\u001b[39;00m\n\u001b[0;32m   (...)\u001b[0m\n\u001b[1;32m     70\u001b[0m \u001b[39m    :rtype: requests.Response\u001b[39;00m\n\u001b[1;32m     71\u001b[0m \u001b[39m    \"\"\"\u001b[39;00m\n\u001b[0;32m---> 73\u001b[0m     \u001b[39mreturn\u001b[39;00m request(\u001b[39m\"\u001b[39;49m\u001b[39mget\u001b[39;49m\u001b[39m\"\u001b[39;49m, url, params\u001b[39m=\u001b[39;49mparams, \u001b[39m*\u001b[39;49m\u001b[39m*\u001b[39;49mkwargs)\n",
      "File \u001b[0;32m~/.local/lib/python3.10/site-packages/requests/api.py:59\u001b[0m, in \u001b[0;36mrequest\u001b[0;34m(method, url, **kwargs)\u001b[0m\n\u001b[1;32m     55\u001b[0m \u001b[39m# By using the 'with' statement we are sure the session is closed, thus we\u001b[39;00m\n\u001b[1;32m     56\u001b[0m \u001b[39m# avoid leaving sockets open which can trigger a ResourceWarning in some\u001b[39;00m\n\u001b[1;32m     57\u001b[0m \u001b[39m# cases, and look like a memory leak in others.\u001b[39;00m\n\u001b[1;32m     58\u001b[0m \u001b[39mwith\u001b[39;00m sessions\u001b[39m.\u001b[39mSession() \u001b[39mas\u001b[39;00m session:\n\u001b[0;32m---> 59\u001b[0m     \u001b[39mreturn\u001b[39;00m session\u001b[39m.\u001b[39;49mrequest(method\u001b[39m=\u001b[39;49mmethod, url\u001b[39m=\u001b[39;49murl, \u001b[39m*\u001b[39;49m\u001b[39m*\u001b[39;49mkwargs)\n",
      "File \u001b[0;32m~/.local/lib/python3.10/site-packages/requests/sessions.py:587\u001b[0m, in \u001b[0;36mSession.request\u001b[0;34m(self, method, url, params, data, headers, cookies, files, auth, timeout, allow_redirects, proxies, hooks, stream, verify, cert, json)\u001b[0m\n\u001b[1;32m    582\u001b[0m send_kwargs \u001b[39m=\u001b[39m {\n\u001b[1;32m    583\u001b[0m     \u001b[39m\"\u001b[39m\u001b[39mtimeout\u001b[39m\u001b[39m\"\u001b[39m: timeout,\n\u001b[1;32m    584\u001b[0m     \u001b[39m\"\u001b[39m\u001b[39mallow_redirects\u001b[39m\u001b[39m\"\u001b[39m: allow_redirects,\n\u001b[1;32m    585\u001b[0m }\n\u001b[1;32m    586\u001b[0m send_kwargs\u001b[39m.\u001b[39mupdate(settings)\n\u001b[0;32m--> 587\u001b[0m resp \u001b[39m=\u001b[39m \u001b[39mself\u001b[39;49m\u001b[39m.\u001b[39;49msend(prep, \u001b[39m*\u001b[39;49m\u001b[39m*\u001b[39;49msend_kwargs)\n\u001b[1;32m    589\u001b[0m \u001b[39mreturn\u001b[39;00m resp\n",
      "File \u001b[0;32m~/.local/lib/python3.10/site-packages/requests/sessions.py:701\u001b[0m, in \u001b[0;36mSession.send\u001b[0;34m(self, request, **kwargs)\u001b[0m\n\u001b[1;32m    698\u001b[0m start \u001b[39m=\u001b[39m preferred_clock()\n\u001b[1;32m    700\u001b[0m \u001b[39m# Send the request\u001b[39;00m\n\u001b[0;32m--> 701\u001b[0m r \u001b[39m=\u001b[39m adapter\u001b[39m.\u001b[39;49msend(request, \u001b[39m*\u001b[39;49m\u001b[39m*\u001b[39;49mkwargs)\n\u001b[1;32m    703\u001b[0m \u001b[39m# Total elapsed time of the request (approximately)\u001b[39;00m\n\u001b[1;32m    704\u001b[0m elapsed \u001b[39m=\u001b[39m preferred_clock() \u001b[39m-\u001b[39m start\n",
      "File \u001b[0;32m~/.local/lib/python3.10/site-packages/requests/adapters.py:489\u001b[0m, in \u001b[0;36mHTTPAdapter.send\u001b[0;34m(self, request, stream, timeout, verify, cert, proxies)\u001b[0m\n\u001b[1;32m    487\u001b[0m \u001b[39mtry\u001b[39;00m:\n\u001b[1;32m    488\u001b[0m     \u001b[39mif\u001b[39;00m \u001b[39mnot\u001b[39;00m chunked:\n\u001b[0;32m--> 489\u001b[0m         resp \u001b[39m=\u001b[39m conn\u001b[39m.\u001b[39;49murlopen(\n\u001b[1;32m    490\u001b[0m             method\u001b[39m=\u001b[39;49mrequest\u001b[39m.\u001b[39;49mmethod,\n\u001b[1;32m    491\u001b[0m             url\u001b[39m=\u001b[39;49murl,\n\u001b[1;32m    492\u001b[0m             body\u001b[39m=\u001b[39;49mrequest\u001b[39m.\u001b[39;49mbody,\n\u001b[1;32m    493\u001b[0m             headers\u001b[39m=\u001b[39;49mrequest\u001b[39m.\u001b[39;49mheaders,\n\u001b[1;32m    494\u001b[0m             redirect\u001b[39m=\u001b[39;49m\u001b[39mFalse\u001b[39;49;00m,\n\u001b[1;32m    495\u001b[0m             assert_same_host\u001b[39m=\u001b[39;49m\u001b[39mFalse\u001b[39;49;00m,\n\u001b[1;32m    496\u001b[0m             preload_content\u001b[39m=\u001b[39;49m\u001b[39mFalse\u001b[39;49;00m,\n\u001b[1;32m    497\u001b[0m             decode_content\u001b[39m=\u001b[39;49m\u001b[39mFalse\u001b[39;49;00m,\n\u001b[1;32m    498\u001b[0m             retries\u001b[39m=\u001b[39;49m\u001b[39mself\u001b[39;49m\u001b[39m.\u001b[39;49mmax_retries,\n\u001b[1;32m    499\u001b[0m             timeout\u001b[39m=\u001b[39;49mtimeout,\n\u001b[1;32m    500\u001b[0m         )\n\u001b[1;32m    502\u001b[0m     \u001b[39m# Send the request.\u001b[39;00m\n\u001b[1;32m    503\u001b[0m     \u001b[39melse\u001b[39;00m:\n\u001b[1;32m    504\u001b[0m         \u001b[39mif\u001b[39;00m \u001b[39mhasattr\u001b[39m(conn, \u001b[39m\"\u001b[39m\u001b[39mproxy_pool\u001b[39m\u001b[39m\"\u001b[39m):\n",
      "File \u001b[0;32m~/.local/lib/python3.10/site-packages/urllib3/connectionpool.py:703\u001b[0m, in \u001b[0;36mHTTPConnectionPool.urlopen\u001b[0;34m(self, method, url, body, headers, retries, redirect, assert_same_host, timeout, pool_timeout, release_conn, chunked, body_pos, **response_kw)\u001b[0m\n\u001b[1;32m    700\u001b[0m     \u001b[39mself\u001b[39m\u001b[39m.\u001b[39m_prepare_proxy(conn)\n\u001b[1;32m    702\u001b[0m \u001b[39m# Make the request on the httplib connection object.\u001b[39;00m\n\u001b[0;32m--> 703\u001b[0m httplib_response \u001b[39m=\u001b[39m \u001b[39mself\u001b[39;49m\u001b[39m.\u001b[39;49m_make_request(\n\u001b[1;32m    704\u001b[0m     conn,\n\u001b[1;32m    705\u001b[0m     method,\n\u001b[1;32m    706\u001b[0m     url,\n\u001b[1;32m    707\u001b[0m     timeout\u001b[39m=\u001b[39;49mtimeout_obj,\n\u001b[1;32m    708\u001b[0m     body\u001b[39m=\u001b[39;49mbody,\n\u001b[1;32m    709\u001b[0m     headers\u001b[39m=\u001b[39;49mheaders,\n\u001b[1;32m    710\u001b[0m     chunked\u001b[39m=\u001b[39;49mchunked,\n\u001b[1;32m    711\u001b[0m )\n\u001b[1;32m    713\u001b[0m \u001b[39m# If we're going to release the connection in ``finally:``, then\u001b[39;00m\n\u001b[1;32m    714\u001b[0m \u001b[39m# the response doesn't need to know about the connection. Otherwise\u001b[39;00m\n\u001b[1;32m    715\u001b[0m \u001b[39m# it will also try to release it and we'll have a double-release\u001b[39;00m\n\u001b[1;32m    716\u001b[0m \u001b[39m# mess.\u001b[39;00m\n\u001b[1;32m    717\u001b[0m response_conn \u001b[39m=\u001b[39m conn \u001b[39mif\u001b[39;00m \u001b[39mnot\u001b[39;00m release_conn \u001b[39melse\u001b[39;00m \u001b[39mNone\u001b[39;00m\n",
      "File \u001b[0;32m~/.local/lib/python3.10/site-packages/urllib3/connectionpool.py:386\u001b[0m, in \u001b[0;36mHTTPConnectionPool._make_request\u001b[0;34m(self, conn, method, url, timeout, chunked, **httplib_request_kw)\u001b[0m\n\u001b[1;32m    384\u001b[0m \u001b[39m# Trigger any extra validation we need to do.\u001b[39;00m\n\u001b[1;32m    385\u001b[0m \u001b[39mtry\u001b[39;00m:\n\u001b[0;32m--> 386\u001b[0m     \u001b[39mself\u001b[39;49m\u001b[39m.\u001b[39;49m_validate_conn(conn)\n\u001b[1;32m    387\u001b[0m \u001b[39mexcept\u001b[39;00m (SocketTimeout, BaseSSLError) \u001b[39mas\u001b[39;00m e:\n\u001b[1;32m    388\u001b[0m     \u001b[39m# Py2 raises this as a BaseSSLError, Py3 raises it as socket timeout.\u001b[39;00m\n\u001b[1;32m    389\u001b[0m     \u001b[39mself\u001b[39m\u001b[39m.\u001b[39m_raise_timeout(err\u001b[39m=\u001b[39me, url\u001b[39m=\u001b[39murl, timeout_value\u001b[39m=\u001b[39mconn\u001b[39m.\u001b[39mtimeout)\n",
      "File \u001b[0;32m~/.local/lib/python3.10/site-packages/urllib3/connectionpool.py:1042\u001b[0m, in \u001b[0;36mHTTPSConnectionPool._validate_conn\u001b[0;34m(self, conn)\u001b[0m\n\u001b[1;32m   1040\u001b[0m \u001b[39m# Force connect early to allow us to validate the connection.\u001b[39;00m\n\u001b[1;32m   1041\u001b[0m \u001b[39mif\u001b[39;00m \u001b[39mnot\u001b[39;00m \u001b[39mgetattr\u001b[39m(conn, \u001b[39m\"\u001b[39m\u001b[39msock\u001b[39m\u001b[39m\"\u001b[39m, \u001b[39mNone\u001b[39;00m):  \u001b[39m# AppEngine might not have  `.sock`\u001b[39;00m\n\u001b[0;32m-> 1042\u001b[0m     conn\u001b[39m.\u001b[39;49mconnect()\n\u001b[1;32m   1044\u001b[0m \u001b[39mif\u001b[39;00m \u001b[39mnot\u001b[39;00m conn\u001b[39m.\u001b[39mis_verified:\n\u001b[1;32m   1045\u001b[0m     warnings\u001b[39m.\u001b[39mwarn(\n\u001b[1;32m   1046\u001b[0m         (\n\u001b[1;32m   1047\u001b[0m             \u001b[39m\"\u001b[39m\u001b[39mUnverified HTTPS request is being made to host \u001b[39m\u001b[39m'\u001b[39m\u001b[39m%s\u001b[39;00m\u001b[39m'\u001b[39m\u001b[39m. \u001b[39m\u001b[39m\"\u001b[39m\n\u001b[0;32m   (...)\u001b[0m\n\u001b[1;32m   1052\u001b[0m         InsecureRequestWarning,\n\u001b[1;32m   1053\u001b[0m     )\n",
      "File \u001b[0;32m~/.local/lib/python3.10/site-packages/urllib3/connection.py:358\u001b[0m, in \u001b[0;36mHTTPSConnection.connect\u001b[0;34m(self)\u001b[0m\n\u001b[1;32m    356\u001b[0m \u001b[39mdef\u001b[39;00m \u001b[39mconnect\u001b[39m(\u001b[39mself\u001b[39m):\n\u001b[1;32m    357\u001b[0m     \u001b[39m# Add certificate verification\u001b[39;00m\n\u001b[0;32m--> 358\u001b[0m     \u001b[39mself\u001b[39m\u001b[39m.\u001b[39msock \u001b[39m=\u001b[39m conn \u001b[39m=\u001b[39m \u001b[39mself\u001b[39;49m\u001b[39m.\u001b[39;49m_new_conn()\n\u001b[1;32m    359\u001b[0m     hostname \u001b[39m=\u001b[39m \u001b[39mself\u001b[39m\u001b[39m.\u001b[39mhost\n\u001b[1;32m    360\u001b[0m     tls_in_tls \u001b[39m=\u001b[39m \u001b[39mFalse\u001b[39;00m\n",
      "File \u001b[0;32m~/.local/lib/python3.10/site-packages/urllib3/connection.py:174\u001b[0m, in \u001b[0;36mHTTPConnection._new_conn\u001b[0;34m(self)\u001b[0m\n\u001b[1;32m    171\u001b[0m     extra_kw[\u001b[39m\"\u001b[39m\u001b[39msocket_options\u001b[39m\u001b[39m\"\u001b[39m] \u001b[39m=\u001b[39m \u001b[39mself\u001b[39m\u001b[39m.\u001b[39msocket_options\n\u001b[1;32m    173\u001b[0m \u001b[39mtry\u001b[39;00m:\n\u001b[0;32m--> 174\u001b[0m     conn \u001b[39m=\u001b[39m connection\u001b[39m.\u001b[39;49mcreate_connection(\n\u001b[1;32m    175\u001b[0m         (\u001b[39mself\u001b[39;49m\u001b[39m.\u001b[39;49m_dns_host, \u001b[39mself\u001b[39;49m\u001b[39m.\u001b[39;49mport), \u001b[39mself\u001b[39;49m\u001b[39m.\u001b[39;49mtimeout, \u001b[39m*\u001b[39;49m\u001b[39m*\u001b[39;49mextra_kw\n\u001b[1;32m    176\u001b[0m     )\n\u001b[1;32m    178\u001b[0m \u001b[39mexcept\u001b[39;00m SocketTimeout:\n\u001b[1;32m    179\u001b[0m     \u001b[39mraise\u001b[39;00m ConnectTimeoutError(\n\u001b[1;32m    180\u001b[0m         \u001b[39mself\u001b[39m,\n\u001b[1;32m    181\u001b[0m         \u001b[39m\"\u001b[39m\u001b[39mConnection to \u001b[39m\u001b[39m%s\u001b[39;00m\u001b[39m timed out. (connect timeout=\u001b[39m\u001b[39m%s\u001b[39;00m\u001b[39m)\u001b[39m\u001b[39m\"\u001b[39m\n\u001b[1;32m    182\u001b[0m         \u001b[39m%\u001b[39m (\u001b[39mself\u001b[39m\u001b[39m.\u001b[39mhost, \u001b[39mself\u001b[39m\u001b[39m.\u001b[39mtimeout),\n\u001b[1;32m    183\u001b[0m     )\n",
      "File \u001b[0;32m~/.local/lib/python3.10/site-packages/urllib3/util/connection.py:72\u001b[0m, in \u001b[0;36mcreate_connection\u001b[0;34m(address, timeout, source_address, socket_options)\u001b[0m\n\u001b[1;32m     67\u001b[0m \u001b[39mexcept\u001b[39;00m \u001b[39mUnicodeError\u001b[39;00m:\n\u001b[1;32m     68\u001b[0m     \u001b[39mreturn\u001b[39;00m six\u001b[39m.\u001b[39mraise_from(\n\u001b[1;32m     69\u001b[0m         LocationParseError(\u001b[39mu\u001b[39m\u001b[39m\"\u001b[39m\u001b[39m'\u001b[39m\u001b[39m%s\u001b[39;00m\u001b[39m'\u001b[39m\u001b[39m, label empty or too long\u001b[39m\u001b[39m\"\u001b[39m \u001b[39m%\u001b[39m host), \u001b[39mNone\u001b[39;00m\n\u001b[1;32m     70\u001b[0m     )\n\u001b[0;32m---> 72\u001b[0m \u001b[39mfor\u001b[39;00m res \u001b[39min\u001b[39;00m socket\u001b[39m.\u001b[39;49mgetaddrinfo(host, port, family, socket\u001b[39m.\u001b[39;49mSOCK_STREAM):\n\u001b[1;32m     73\u001b[0m     af, socktype, proto, canonname, sa \u001b[39m=\u001b[39m res\n\u001b[1;32m     74\u001b[0m     sock \u001b[39m=\u001b[39m \u001b[39mNone\u001b[39;00m\n",
      "File \u001b[0;32m/usr/lib/python3.10/socket.py:955\u001b[0m, in \u001b[0;36mgetaddrinfo\u001b[0;34m(host, port, family, type, proto, flags)\u001b[0m\n\u001b[1;32m    952\u001b[0m \u001b[39m# We override this function since we want to translate the numeric family\u001b[39;00m\n\u001b[1;32m    953\u001b[0m \u001b[39m# and socket type values to enum constants.\u001b[39;00m\n\u001b[1;32m    954\u001b[0m addrlist \u001b[39m=\u001b[39m []\n\u001b[0;32m--> 955\u001b[0m \u001b[39mfor\u001b[39;00m res \u001b[39min\u001b[39;00m _socket\u001b[39m.\u001b[39;49mgetaddrinfo(host, port, family, \u001b[39mtype\u001b[39;49m, proto, flags):\n\u001b[1;32m    956\u001b[0m     af, socktype, proto, canonname, sa \u001b[39m=\u001b[39m res\n\u001b[1;32m    957\u001b[0m     addrlist\u001b[39m.\u001b[39mappend((_intenum_converter(af, AddressFamily),\n\u001b[1;32m    958\u001b[0m                      _intenum_converter(socktype, SocketKind),\n\u001b[1;32m    959\u001b[0m                      proto, canonname, sa))\n",
      "\u001b[0;31mKeyboardInterrupt\u001b[0m: "
     ]
    }
   ],
   "source": [
    "base_url = \"https://www.theodinproject.com/paths/foundations/courses/foundations\"\n",
    "base_response = requests.get(base_url)\n",
    "\n",
    "for (k) in base_response.headers.items():\n",
    "    print(k)\n"
   ]
  },
  {
   "cell_type": "code",
   "execution_count": null,
   "metadata": {},
   "outputs": [],
   "source": [
    "response = requests.get(\n",
    "    'https://api.github.com/search/repositories',\n",
    "    params={'q': 'requests+language:python'},\n",
    ")\n",
    "# max = len(response.json()['items'])\n",
    "print(sorted(response.json()['items'][0].keys()))\n",
    "print()\n",
    "sds = 2034\n",
    "for k,i in enumerate(response.json()['items'],1):\n",
    "        print(f\"{k}: {i['name']} | {i['description']} | {i['owner']['login']}\")\n",
    "        # print()\n"
   ]
  },
  {
   "cell_type": "code",
   "execution_count": null,
   "metadata": {},
   "outputs": [],
   "source": [
    "\n",
    "URL = \"https://realpython.github.io/fake-jobs/\"\n",
    "jobs_page = requests.get(URL)"
   ]
  },
  {
   "cell_type": "code",
   "execution_count": null,
   "metadata": {},
   "outputs": [],
   "source": [
    "soup = bs4.BeautifulSoup(jobs_page.content,\"html.parser\")"
   ]
  },
  {
   "cell_type": "code",
   "execution_count": null,
   "metadata": {},
   "outputs": [],
   "source": [
    "result_1 = soup.find(id='ResultsContainer').find_all('div', class_=\"card-content\")\n",
    "for e, i in enumerate(result_1, 1):\n",
    "    title = i.find('h2', class_=\"title\")\n",
    "    company = i.find('h3', class_=\"company\")\n",
    "    location = i.find('p', class_=\"location\")\n",
    "    print(e)\n",
    "    print(title.text)\n",
    "    print(company.text)\n",
    "    print(location.text.strip())\n",
    "    print()"
   ]
  },
  {
   "cell_type": "code",
   "execution_count": null,
   "metadata": {},
   "outputs": [],
   "source": [
    "result = soup.find(id=\"ResultsContainer\")\n",
    "python_jobs = result.find_all(\"h2\", string=lambda text: 'python' in text.lower())\n",
    "\n",
    "python_job_elements = [i.parent.parent.parent for i in python_jobs]\n",
    "for e, i in enumerate(python_job_elements, 1):\n",
    "    title = i.find('h2', class_=\"title\")\n",
    "    company = i.find('h3', class_=\"company\")\n",
    "    location = i.find('p', class_=\"location\")\n",
    "    link = i.find_all('a')[1]['href']\n",
    "    print(e)\n",
    "    print(title.text)\n",
    "    print(company.text)\n",
    "    print(location.text.strip())\n",
    "    print(link)"
   ]
  },
  {
   "cell_type": "markdown",
   "metadata": {},
   "source": [
    "## gathering each foundation lesson additional section links"
   ]
  },
  {
   "cell_type": "code",
   "execution_count": null,
   "metadata": {},
   "outputs": [],
   "source": [
    "url_odin = \"https://www.theodinproject.com/paths/foundations/courses/foundations\"\n",
    "response_odin = requests.get(url_odin)"
   ]
  },
  {
   "cell_type": "code",
   "execution_count": 71,
   "metadata": {},
   "outputs": [],
   "source": [
    "soup_odin = bs4.BeautifulSoup(response_odin.content,'html.parser')\n",
    "links = soup_odin.find_all('a')\n",
    "\n",
    "# each foundation course link / course name\n",
    "lesson_links = [i[\"href\"] for i in links if '.com/lessons' in i[\"href\"]]\n",
    "lesson_names = [\" \".join(i.split('-')[1:]) for i in lesson_links]\n"
   ]
  },
  {
   "cell_type": "markdown",
   "metadata": {},
   "source": [
    "### Additional Resources HTML"
   ]
  },
  {
   "cell_type": "code",
   "execution_count": null,
   "metadata": {},
   "outputs": [],
   "source": [
    "temp_html = open('html_temp.html', 'w')\n",
    "# temp_html.writelines('<section>')\n",
    "# temp_html.writelines('\\n')\n",
    "# temp_html.writelines('</section>')\n",
    "# temp_html.close()\n"
   ]
  },
  {
   "cell_type": "code",
   "execution_count": 72,
   "metadata": {},
   "outputs": [
    {
     "name": "stdout",
     "output_type": "stream",
     "text": [
      "link 0 success.\n",
      "link 1 success.\n",
      "link 2 success.\n",
      "link 3 success.\n",
      "link 4 success.\n",
      "link 5 success.\n",
      "link 6 success.\n",
      "link 7 success.\n",
      "link 8 success.\n",
      "link 9 success.\n",
      "link 10 success.\n",
      "link 11 success.\n",
      "link 12 success.\n",
      "link 13 success.\n",
      "link 14 success.\n",
      "link 15 success.\n",
      "link 16 success.\n",
      "link 17 success.\n",
      "link 18 success.\n",
      "link 19 success.\n",
      "link 20 success.\n"
     ]
    },
    {
     "ename": "AttributeError",
     "evalue": "'NoneType' object has no attribute 'ul'",
     "output_type": "error",
     "traceback": [
      "\u001b[0;31m---------------------------------------------------------------------------\u001b[0m",
      "\u001b[0;31mAttributeError\u001b[0m                            Traceback (most recent call last)",
      "Cell \u001b[0;32mIn [72], line 13\u001b[0m\n\u001b[1;32m     11\u001b[0m \u001b[39melse\u001b[39;00m:\n\u001b[1;32m     12\u001b[0m     html_soup \u001b[39m=\u001b[39m bs4\u001b[39m.\u001b[39mBeautifulSoup(html_response\u001b[39m.\u001b[39mcontent, \u001b[39m'\u001b[39m\u001b[39mhtml.parser\u001b[39m\u001b[39m'\u001b[39m)\n\u001b[0;32m---> 13\u001b[0m     html_find \u001b[39m=\u001b[39m html_soup\u001b[39m.\u001b[39;49mfind(\u001b[39mid\u001b[39;49m\u001b[39m=\u001b[39;49m\u001b[39m\"\u001b[39;49m\u001b[39madditional-resources\u001b[39;49m\u001b[39m\"\u001b[39;49m)\u001b[39m.\u001b[39;49mul\n\u001b[1;32m     14\u001b[0m     title_h4 \u001b[39m=\u001b[39m \u001b[39mf\u001b[39m\u001b[39m'\u001b[39m\u001b[39m<h4><a href=\u001b[39m\u001b[39m\"\u001b[39m\u001b[39m{\u001b[39;00mlesson_links[i]\u001b[39m}\u001b[39;00m\u001b[39m\"\u001b[39m\u001b[39m>\u001b[39m\u001b[39m{\u001b[39;00mlesson_names[i]\u001b[39m}\u001b[39;00m\u001b[39m</a></h4>\u001b[39m\u001b[39m'\u001b[39m\n\u001b[1;32m     16\u001b[0m     \u001b[39mprint\u001b[39m(\u001b[39mf\u001b[39m\u001b[39m'\u001b[39m\u001b[39mlink \u001b[39m\u001b[39m{\u001b[39;00mi\u001b[39m}\u001b[39;00m\u001b[39m success.\u001b[39m\u001b[39m'\u001b[39m)\n",
      "\u001b[0;31mAttributeError\u001b[0m: 'NoneType' object has no attribute 'ul'"
     ]
    }
   ],
   "source": [
    "from time import sleep\n",
    "html_soup = ''\n",
    "temp_html = open('html_temp.html', 'a')\n",
    "\n",
    "# failed at 21\n",
    "\n",
    "for i in range(21, len(lesson_links)):\n",
    "    html_response = requests.get(lesson_links[i])\n",
    "    if html_response.status_code != 200:\n",
    "        print(html_response.status_code, 'NO NO NO ...!!!')\n",
    "    else:\n",
    "        html_soup = bs4.BeautifulSoup(html_response.content, 'html.parser')\n",
    "        html_find = html_soup.find(id=\"additional-resources\").ul\n",
    "        title_h4 = f'<h4><a href=\"{lesson_links[i]}\">{lesson_names[i]}</a></h4>'\n",
    "        \n",
    "        print(f'link {i} success.')\n",
    "        \n",
    "        temp_html.writelines('<section>\\n')\n",
    "        temp_html.writelines(title_h4)\n",
    "        temp_html.writelines('\\n')\n",
    "        temp_html.writelines(str(html_find))\n",
    "        temp_html.writelines('\\n')\n",
    "        temp_html.writelines('</section>\\n')\n",
    "\n",
    "    sleep(2)\n",
    "temp_html.close()\n"
   ]
  },
  {
   "cell_type": "code",
   "execution_count": null,
   "metadata": {},
   "outputs": [
    {
     "data": {
      "text/plain": [
       "49"
      ]
     },
     "execution_count": 64,
     "metadata": {},
     "output_type": "execute_result"
    }
   ],
   "source": [
    "len(lesson_links)"
   ]
  },
  {
   "cell_type": "markdown",
   "metadata": {},
   "source": [
    "### Additional Resources LINKS"
   ]
  },
  {
   "cell_type": "code",
   "execution_count": null,
   "metadata": {},
   "outputs": [
    {
     "name": "stdout",
     "output_type": "stream",
     "text": [
      "None\n"
     ]
    }
   ],
   "source": [
    "print(html_soup_find)"
   ]
  },
  {
   "cell_type": "code",
   "execution_count": null,
   "metadata": {},
   "outputs": [],
   "source": [
    "from time import sleep\n",
    "\n",
    "\n",
    "aa_links = []\n",
    "for e,link in enumerate(lesson_links):\n",
    "\n",
    "    aa_response = requests.get(link)\n",
    "    aa_soup = bs4.BeautifulSoup(aa_response.content, 'html.parser')\n",
    "    aa_section = aa_soup.find(id=\"additional-resources\")\n",
    "    aa_links_temp = []\n",
    "    if aa_section:\n",
    "        aa_links_temp = [(i.text, i['href']) for i in aa_section.find_all('a') if \"http\" in i[\"href\"]]\n",
    "    aa_links.append((lesson_names[e], aa_links_temp))\n",
    "    sleep(1)\n"
   ]
  },
  {
   "cell_type": "code",
   "execution_count": null,
   "metadata": {},
   "outputs": [],
   "source": [
    "def createMarkDown():\n",
    "    with open('markdown.md', 'w') as md:\n",
    "        md.writelines(\"# Odin Additional links\\n\\n\")\n",
    "        for n,i in enumerate(aa_links):\n",
    "            md.writelines(f\"## [{i[0]}]({lesson_links[n]})\\n\\n\")\n",
    "\n",
    "            if i[1]==[]: continue\n",
    "            for j in i[1]:\n",
    "                md.write(f\"* [{j[0]}]({j[1]})\\n\\n\")\n",
    "\n",
    "# dont run again yet\n",
    "# createMarkDown()"
   ]
  },
  {
   "cell_type": "markdown",
   "metadata": {},
   "source": [
    "## Edit `markdown.md` File"
   ]
  },
  {
   "cell_type": "code",
   "execution_count": null,
   "metadata": {},
   "outputs": [
    {
     "name": "stdout",
     "output_type": "stream",
     "text": [
      "## [how this course will work](https://www.theodinproject.com/lessons/foundations-how-this-course-will-work)\n",
      "\n",
      "## [introduction to web development](https://www.theodinproject.com/lessons/foundations-introduction-to-web-development)\n",
      "\n",
      "## [motivation and mindset](https://www.theodinproject.com/lessons/foundations-motivation-and-mindset)\n",
      "\n",
      "## [asking for help](https://www.theodinproject.com/lessons/foundations-asking-for-help)\n",
      "\n",
      "## [join the odin community](https://www.theodinproject.com/lessons/foundations-join-the-odin-community)\n",
      "\n",
      "## [computer basics](https://www.theodinproject.com/lessons/foundations-computer-basics)\n",
      "\n",
      "## [how does the web work](https://www.theodinproject.com/lessons/foundations-how-does-the-web-work)\n",
      "\n",
      "## [installation overview](https://www.theodinproject.com/lessons/foundations-installation-overview)\n",
      "\n",
      "## [installations](https://www.theodinproject.com/lessons/foundations-installations)\n",
      "\n",
      "## [text editors](https://www.theodinproject.com/lessons/foundations-text-editors)\n",
      "\n",
      "## [command line basics](https://www.theodinproject.com/lessons/foundations-command-line-basics)\n",
      "\n",
      "## [setting up git](https://www.theodinproject.com/lessons/foundations-setting-up-git)\n",
      "\n",
      "## [introduction to git](https://www.theodinproject.com/lessons/foundations-introduction-to-git)\n",
      "\n",
      "## [git basics](https://www.theodinproject.com/lessons/foundations-git-basics)\n",
      "\n",
      "## [introduction to html and css](https://www.theodinproject.com/lessons/foundations-introduction-to-html-and-css)\n",
      "\n",
      "## [elements and tags](https://www.theodinproject.com/lessons/foundations-elements-and-tags)\n",
      "\n",
      "## [html boilerplate](https://www.theodinproject.com/lessons/foundations-html-boilerplate)\n",
      "\n",
      "## [working with text](https://www.theodinproject.com/lessons/foundations-working-with-text)\n",
      "\n",
      "## [lists](https://www.theodinproject.com/lessons/foundations-lists)\n",
      "\n",
      "## [links and images](https://www.theodinproject.com/lessons/foundations-links-and-images)\n",
      "\n",
      "## [commit messages](https://www.theodinproject.com/lessons/foundations-commit-messages)\n",
      "\n",
      "## [recipes](https://www.theodinproject.com/lessons/foundations-recipes)\n",
      "\n",
      "## [css foundations](https://www.theodinproject.com/lessons/foundations-css-foundations)\n",
      "\n",
      "## [inspecting html and css](https://www.theodinproject.com/lessons/foundations-inspecting-html-and-css)\n",
      "\n",
      "## [the box model](https://www.theodinproject.com/lessons/foundations-the-box-model)\n",
      "\n",
      "## [block and inline](https://www.theodinproject.com/lessons/foundations-block-and-inline)\n",
      "\n",
      "## [introduction to flexbox](https://www.theodinproject.com/lessons/foundations-introduction-to-flexbox)\n",
      "\n",
      "## [growing and shrinking](https://www.theodinproject.com/lessons/foundations-growing-and-shrinking)\n",
      "\n",
      "## [axes](https://www.theodinproject.com/lessons/foundations-axes)\n",
      "\n",
      "## [alignment](https://www.theodinproject.com/lessons/foundations-alignment)\n",
      "\n",
      "## [landing page](https://www.theodinproject.com/lessons/foundations-landing-page)\n",
      "\n",
      "## [fundamentals part 1](https://www.theodinproject.com/lessons/foundations-fundamentals-part-1)\n",
      "\n",
      "## [fundamentals part 2](https://www.theodinproject.com/lessons/foundations-fundamentals-part-2)\n",
      "\n",
      "## [javascript developer tools](https://www.theodinproject.com/lessons/foundations-javascript-developer-tools)\n",
      "\n",
      "## [fundamentals part 3](https://www.theodinproject.com/lessons/foundations-fundamentals-part-3)\n",
      "\n",
      "## [problem solving](https://www.theodinproject.com/lessons/foundations-problem-solving)\n",
      "\n",
      "## [understanding errors](https://www.theodinproject.com/lessons/foundations-understanding-errors)\n",
      "\n",
      "## [rock paper scissors](https://www.theodinproject.com/lessons/foundations-rock-paper-scissors)\n",
      "\n",
      "## [clean code](https://www.theodinproject.com/lessons/foundations-clean-code)\n",
      "\n",
      "## [installing node js](https://www.theodinproject.com/lessons/foundations-installing-node-js)\n",
      "\n",
      "## [fundamentals part 4](https://www.theodinproject.com/lessons/foundations-fundamentals-part-4)\n",
      "\n",
      "## [dom manipulation and events](https://www.theodinproject.com/lessons/foundations-dom-manipulation-and-events)\n",
      "\n",
      "## [revisiting rock paper scissors](https://www.theodinproject.com/lessons/foundations-revisiting-rock-paper-scissors)\n",
      "\n",
      "## [etch a sketch](https://www.theodinproject.com/lessons/foundations-etch-a-sketch)\n",
      "\n",
      "## [fundamentals part 5](https://www.theodinproject.com/lessons/foundations-fundamentals-part-5)\n",
      "\n",
      "## [calculator](https://www.theodinproject.com/lessons/foundations-calculator)\n",
      "\n",
      "## [introduction to the back end](https://www.theodinproject.com/lessons/foundations-introduction-to-the-back-end)\n",
      "\n",
      "## [introduction to frameworks](https://www.theodinproject.com/lessons/foundations-introduction-to-frameworks)\n",
      "\n",
      "## [choose your path forward](https://www.theodinproject.com/lessons/foundations-choose-your-path-forward)\n",
      "\n"
     ]
    }
   ],
   "source": [
    "with open('markdown.md','r') as md:\n",
    "    for line in md.readlines():\n",
    "        if line.startswith(\"##\"):\n",
    "            print(line)\n",
    "            "
   ]
  }
 ],
 "metadata": {
  "kernelspec": {
   "display_name": "Python 3.10.6 64-bit",
   "language": "python",
   "name": "python3"
  },
  "language_info": {
   "codemirror_mode": {
    "name": "ipython",
    "version": 3
   },
   "file_extension": ".py",
   "mimetype": "text/x-python",
   "name": "python",
   "nbconvert_exporter": "python",
   "pygments_lexer": "ipython3",
   "version": "3.10.6"
  },
  "orig_nbformat": 4,
  "vscode": {
   "interpreter": {
    "hash": "916dbcbb3f70747c44a77c7bcd40155683ae19c65e1c03b4aa3499c5328201f1"
   }
  }
 },
 "nbformat": 4,
 "nbformat_minor": 2
}
